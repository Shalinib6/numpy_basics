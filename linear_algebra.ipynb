{
  "nbformat": 4,
  "nbformat_minor": 0,
  "metadata": {
    "colab": {
      "provenance": [],
      "authorship_tag": "ABX9TyP7kCX26VIEK4onoc2hjbtS",
      "include_colab_link": true
    },
    "kernelspec": {
      "name": "python3",
      "display_name": "Python 3"
    },
    "language_info": {
      "name": "python"
    }
  },
  "cells": [
    {
      "cell_type": "markdown",
      "metadata": {
        "id": "view-in-github",
        "colab_type": "text"
      },
      "source": [
        "<a href=\"https://colab.research.google.com/github/Shalinib6/numpy_basics/blob/main/linear_algebra.ipynb\" target=\"_parent\"><img src=\"https://colab.research.google.com/assets/colab-badge.svg\" alt=\"Open In Colab\"/></a>"
      ]
    },
    {
      "cell_type": "code",
      "execution_count": null,
      "metadata": {
        "colab": {
          "base_uri": "https://localhost:8080/"
        },
        "id": "NcSGdkine-z0",
        "outputId": "4a9d9ad6-2c62-4109-a2df-0d5ea4aae216"
      },
      "outputs": [
        {
          "output_type": "stream",
          "name": "stdout",
          "text": [
            "Drive already mounted at /content/drive; to attempt to forcibly remount, call drive.mount(\"/content/drive\", force_remount=True).\n"
          ]
        }
      ],
      "source": [
        "import os\n",
        "\n",
        "# Create a folder\n",
        "os.makedirs(\"my_folder\", exist_ok=True)\n",
        "\n",
        "# Save a file in that folder\n",
        "with open(\"my_folder/sample.txt\", \"w\") as f:\n",
        "    f.write(\"Hello from Colab!\")\n",
        "from google.colab import drive\n",
        "drive.mount('/content/drive')\n",
        "\n",
        "\n"
      ]
    },
    {
      "cell_type": "code",
      "source": [
        "#linear_algebra in numpy\n",
        "import numpy as np\n",
        "#Create two 2×2 matrices and perform matrix multiplication.\n",
        "A = np.array([[1, 2], [3, 4]])\n",
        "B = np.array([[5, 6], [7, 8]])\n",
        "result = np.dot(A, B)\n",
        "print(result)\n",
        "resultt=np.matmul(A,B)\n",
        "print(resultt)\n",
        "print(A@B)\n",
        "\n",
        "\n",
        "#Transpose the following matrix using NumPy:\n",
        "C= np.array([[1, 2], [3, 4]])\n",
        "print(np.transpose(C))\n",
        "print(C.T)\n",
        "\n",
        "#Find the inverse of matrix\n",
        "D= np.array([[2, 1], [5, 3]])\n",
        "print(np.linalg.inv(D))\n",
        "\n",
        "#Compute the determinant of:\n",
        "E= np.array([[4, 6], [3, 8]])\n",
        "print(np.linalg.det(E))\n",
        "\n",
        "# Eigenvalues / Solve Equations\n",
        "#Find the eigenvalues and eigenvectors of:\n",
        "A = np.array([[2, 0], [0, 3]])\n",
        "eigenvalues,eigenvector=np.linalg.eig(A)\n",
        "print(eigenvalues)\n",
        "print(eigenvector)\n",
        "\n",
        "#Solve the linear equation system:\n",
        "#2x + y = 8\n",
        "#3x + 4y = 18\n",
        "A = np.array([[2, 1], [3, 4]])\n",
        "b = np.array([8, 18])\n",
        "x = np.linalg.solve(A, b)\n",
        "print(x)\n",
        "\n",
        "#Given a matrix, calculate its trace using NumPy.\n",
        "F= np.array([[1, 2,3],[4,5,6],[7,8,9]])\n",
        "print(np.trace(F))\n",
        "\n",
        "#What will np.linalg.matrix_rank() return for a zero matrix?\n",
        "G=np.zeros((3,3))\n",
        "print(np.linalg.matrix_rank(G))\n",
        "\n",
        "#to find the magnitude of a given matrix\n",
        "H= np.array([[1, 2], [3, 4]])\n",
        "print(np.linalg.norm\n",
        "\n"
      ],
      "metadata": {
        "colab": {
          "base_uri": "https://localhost:8080/"
        },
        "id": "a_zwshV1kj2V",
        "outputId": "dd142e1a-1c2d-49a5-aed8-9629a2d0b954"
      },
      "execution_count": null,
      "outputs": [
        {
          "output_type": "stream",
          "name": "stdout",
          "text": [
            "[[19 22]\n",
            " [43 50]]\n",
            "[[19 22]\n",
            " [43 50]]\n",
            "[[19 22]\n",
            " [43 50]]\n",
            "[[1 3]\n",
            " [2 4]]\n",
            "[[1 3]\n",
            " [2 4]]\n",
            "[[ 3. -1.]\n",
            " [-5.  2.]]\n",
            "14.000000000000004\n",
            "[2. 3.]\n",
            "[[1. 0.]\n",
            " [0. 1.]]\n",
            "[2.8 2.4]\n",
            "15\n",
            "0\n",
            "5.477225575051661\n"
          ]
        }
      ]
    },
    {
      "cell_type": "code",
      "source": [],
      "metadata": {
        "id": "8Y35OixEW4DM"
      },
      "execution_count": null,
      "outputs": []
    }
  ]
}