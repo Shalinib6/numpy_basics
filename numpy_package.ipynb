{
  "nbformat": 4,
  "nbformat_minor": 0,
  "metadata": {
    "colab": {
      "provenance": [],
      "authorship_tag": "ABX9TyNmee+g+2jUaCv2QYB5174Z",
      "include_colab_link": true
    },
    "kernelspec": {
      "name": "python3",
      "display_name": "Python 3"
    },
    "language_info": {
      "name": "python"
    }
  },
  "cells": [
    {
      "cell_type": "markdown",
      "metadata": {
        "id": "view-in-github",
        "colab_type": "text"
      },
      "source": [
        "<a href=\"https://colab.research.google.com/github/Shalinib6/numpy_basics/blob/main/numpy_package.ipynb\" target=\"_parent\"><img src=\"https://colab.research.google.com/assets/colab-badge.svg\" alt=\"Open In Colab\"/></a>"
      ]
    },
    {
      "cell_type": "code",
      "execution_count": null,
      "metadata": {
        "id": "Lwzdl6FeiSOu"
      },
      "outputs": [],
      "source": [
        "import os\n",
        "\n",
        "# Create a folder\n",
        "os.makedirs(\"my_folder\", exist_ok=True)\n",
        "\n",
        "# Save a file in that folder\n",
        "with open(\"my_folder/sample.txt\", \"w\") as f:\n",
        "    f.write(\"Hello from Colab!\")\n"
      ]
    },
    {
      "cell_type": "code",
      "source": [
        "from google.colab import drive\n",
        "drive.mount('/content/drive')"
      ],
      "metadata": {
        "colab": {
          "base_uri": "https://localhost:8080/"
        },
        "id": "PCMUcu3viunZ",
        "outputId": "c09f1a00-00d9-4793-a19a-d2afb65504dc"
      },
      "execution_count": null,
      "outputs": [
        {
          "output_type": "stream",
          "name": "stdout",
          "text": [
            "Mounted at /content/drive\n"
          ]
        }
      ]
    },
    {
      "cell_type": "code",
      "source": [
        "#How do you create a 1D NumPy array from a Python list?\n",
        "\n",
        "import numpy as np\n",
        "c=np.array([1,2,3,4])\n",
        "print (c)\n",
        "\n",
        "\n"
      ],
      "metadata": {
        "colab": {
          "base_uri": "https://localhost:8080/"
        },
        "id": "rAk76PugnPbV",
        "outputId": "f699b125-9870-4974-cb05-e7cf2755bc63"
      },
      "execution_count": null,
      "outputs": [
        {
          "output_type": "stream",
          "name": "stdout",
          "text": [
            "[1 2 3 4]\n"
          ]
        }
      ]
    },
    {
      "cell_type": "code",
      "source": [
        "#How do you create a 2D array (matrix) using np.array()\n",
        "import numpy as np\n",
        "c=np.array([[1,2,3,4],[5,6,7,8]])\n",
        "print(c)"
      ],
      "metadata": {
        "colab": {
          "base_uri": "https://localhost:8080/"
        },
        "id": "DxLbLHvfn34H",
        "outputId": "1151073d-15b2-4e1b-a390-f25cf94e10e5"
      },
      "execution_count": null,
      "outputs": [
        {
          "output_type": "stream",
          "name": "stdout",
          "text": [
            "[[1 2 3 4]\n",
            " [5 6 7 8]]\n"
          ]
        }
      ]
    },
    {
      "cell_type": "code",
      "source": [
        "#How can you generate an array filled with zeros or ones\n",
        "import numpy as np\n",
        "c=np.zeros(5)\n",
        "print(c)\n",
        "\n",
        "cp=np.ones(5)\n",
        "print(cp)\n",
        "\n",
        "cpp=np.ones((2,3))\n",
        "print(cpp)"
      ],
      "metadata": {
        "colab": {
          "base_uri": "https://localhost:8080/"
        },
        "id": "TGfVaPdvpfbE",
        "outputId": "8711952e-e49f-433d-e4e2-4f88fa218122"
      },
      "execution_count": null,
      "outputs": [
        {
          "output_type": "stream",
          "name": "stdout",
          "text": [
            "[0. 0. 0. 0. 0.]\n",
            "[1. 1. 1. 1. 1.]\n",
            "[[1. 1. 1.]\n",
            " [1. 1. 1.]]\n"
          ]
        }
      ]
    },
    {
      "cell_type": "code",
      "source": [
        "#How do you create an identity matrix\n",
        "c=np.eye(3,2)\n",
        "print(c)"
      ],
      "metadata": {
        "colab": {
          "base_uri": "https://localhost:8080/"
        },
        "id": "oAm26QP2qFnr",
        "outputId": "b04a737c-4fe1-49b9-e707-733a9f622f6a"
      },
      "execution_count": null,
      "outputs": [
        {
          "output_type": "stream",
          "name": "stdout",
          "text": [
            "[[1. 0.]\n",
            " [0. 1.]\n",
            " [0. 0.]]\n"
          ]
        }
      ]
    },
    {
      "cell_type": "code",
      "source": [
        "#How do you create an array with a range of values (like Python’s range)?\n",
        "c=np.arange(5)\n",
        "print(c)\n",
        "cp=np.arange(2,10,2)\n",
        "print(cp)\n",
        "cpp=np.linspace(0,1,4)\n",
        "print(cpp)"
      ],
      "metadata": {
        "colab": {
          "base_uri": "https://localhost:8080/"
        },
        "id": "vonS4wuysjxN",
        "outputId": "77869a59-247e-4c2b-f361-bde413dd7b9b"
      },
      "execution_count": null,
      "outputs": [
        {
          "output_type": "stream",
          "name": "stdout",
          "text": [
            "[0 1 2 3 4]\n",
            "[2 4 6 8]\n",
            "[0.         0.33333333 0.66666667 1.        ]\n"
          ]
        }
      ]
    },
    {
      "cell_type": "code",
      "source": [
        "#How do you create a random array of given shape?\n",
        "import numpy as np\n",
        "c=np.random.rand(5)\n",
        "print(c)\n",
        "cp=np.random.rand(2,3)\n",
        "print(cp)\n",
        "cpp=np.random.randn(1000)"
      ],
      "metadata": {
        "colab": {
          "base_uri": "https://localhost:8080/"
        },
        "id": "gvItKbo0u2bM",
        "outputId": "60782ff0-0b57-4b69-f170-af7647ff05d9"
      },
      "execution_count": null,
      "outputs": [
        {
          "output_type": "stream",
          "name": "stdout",
          "text": [
            "[0.98479779 0.34596515 0.1953042  0.77274513 0.62871687]\n"
          ]
        }
      ]
    },
    {
      "cell_type": "code",
      "source": [
        "# 1D array of 4 random integers from 0 to 9\n",
        "import numpy as np\n",
        "d = np.random.randint(0, 10, size=4)\n",
        "print(d)\n",
        "\n",
        "# 2x3 array of random integers from 50 to 100\n",
        "e = np.random.randint(50, 101, size=(2, 3))\n",
        "print(e)\n"
      ],
      "metadata": {
        "colab": {
          "base_uri": "https://localhost:8080/"
        },
        "id": "jWIe6u234f41",
        "outputId": "817a29a1-ba85-4eaf-8db7-fbfe2415c903"
      },
      "execution_count": null,
      "outputs": [
        {
          "output_type": "stream",
          "name": "stdout",
          "text": [
            "[8 3 5 0]\n",
            "[[63 96 70]\n",
            " [84 72 98]]\n"
          ]
        }
      ]
    },
    {
      "cell_type": "code",
      "source": [
        "#How do you check the shape (dimensions) of a NumPy array?\n",
        "import numpy as np\n",
        "c=np.array([[1,2,3,4],[5,6,7,8]])\n",
        "print(c.shape)\n",
        "\n",
        "#How do you find the number of dimensions in an array?\n",
        "print(c.ndim)\n",
        "\n",
        "#How do you access elements in a 2D array?\n",
        "print(c[1,2])\n",
        "\n",
        "#How can you get the total number of elements in an array?\n",
        "print(c.size)\n",
        "\n",
        "#How do you find the data type of elements in an array?\n",
        "print(c.dtype)\n",
        "cp=[\"apple\",\"banana\",\"jackfruit\"]\n",
        "print(np.array(cp).dtype)\n",
        "\n"
      ],
      "metadata": {
        "colab": {
          "base_uri": "https://localhost:8080/"
        },
        "id": "CIM41GFE5Fnm",
        "outputId": "1521dc42-2d3e-47d6-d697-c91407b03c67"
      },
      "execution_count": 4,
      "outputs": [
        {
          "output_type": "stream",
          "name": "stdout",
          "text": [
            "(2, 4)\n",
            "2\n",
            "7\n",
            "8\n",
            "int64\n",
            "<U9\n"
          ]
        }
      ]
    },
    {
      "cell_type": "code",
      "source": [
        "#How do you access the first, last, or any element in a 1D array?\n",
        "import numpy as np\n",
        "c=np.array([1,2,3,4])\n",
        "print(c[-1])\n",
        "print(c[-2])\n",
        "#How do you access rows and columns in a 2D array?\n",
        "cp=np.array([[1,2,3,4],[5,6,7,8]])\n",
        "print(cp[-1,-2])\n",
        "\n",
        "#How do you slice a 2D array to get a submatrix?\n",
        "cpp=np.array([[1,2,3,4],[5,6,7,8],[9,10,11,12]])\n",
        "print(cpp[1:, 2:])\n",
        "\n",
        "#How do you use negative indexing in NumPy arrays\n",
        "cppp=np.array([[1,2,3,4],[5,6,7,8],[9,10,11,12]])\n",
        "print(cppp[:,-1])"
      ],
      "metadata": {
        "colab": {
          "base_uri": "https://localhost:8080/"
        },
        "id": "CkJiJf-WRhoC",
        "outputId": "005cb946-0df5-4fc6-fc55-7c5b74281998"
      },
      "execution_count": 9,
      "outputs": [
        {
          "output_type": "stream",
          "name": "stdout",
          "text": [
            "4\n",
            "3\n",
            "7\n",
            "[[ 7  8]\n",
            " [11 12]]\n",
            "[ 4  8 12]\n"
          ]
        }
      ]
    },
    {
      "cell_type": "code",
      "source": [
        "#How do you add, subtract, multiply, or divide two arrays element-wise?\n",
        "import numpy as np\n",
        "c=np.array([1,2,3,4])\n",
        "cp=np.array([5,6,7,8])\n",
        "print(c+cp)\n",
        "print(c-cp)\n",
        "print(c*cp)\n",
        "print(c/cp)\n",
        "\n",
        "#How do you perform power or square operations on arrays?\n",
        "cpp=np.array([1,2,3,4])\n",
        "cppp=np.array([5,6,7,8])\n",
        "print(cpp**cppp)\n",
        "print(cpp**2)\n",
        "print(np.square(cpp))\n",
        "print(np.power(cpp,cppp))\n",
        "print(np.power(cpp,2))\n",
        "\n",
        "#How do you calculate the sum, mean, or standard deviation of an array?\n",
        "cpppp=np.array([1,3,5,6])\n",
        "print(np.sum(cpppp))\n",
        "print(np.mean(cpppp))\n",
        "#How do you perform matrix multiplication using NumPy?\n",
        "a=np.array([[1,2],[4,5]])\n",
        "b=np.array([[7,8],[10,11]])\n",
        "result=np.dot(a,b)\n",
        "print(result)\n",
        "\n",
        "#How do you compute the transpose of a matrix?\n",
        "d=np.array([[1,2,3,4],[6,7,8,9]])\n",
        "print(d.T)\n",
        "print(np.transpose(d))\n",
        "#How do you find the inverse or determinant of a matrix?\n",
        "e=np.array([[1,2],[3,4]])\n",
        "print(np.linalg.det(e))\n",
        "print(np.linalg.inv(e))"
      ],
      "metadata": {
        "colab": {
          "base_uri": "https://localhost:8080/"
        },
        "id": "4EZoet-bfCjE",
        "outputId": "8ff42d1e-aea0-4e25-97db-e95d5397805a"
      },
      "execution_count": 20,
      "outputs": [
        {
          "output_type": "stream",
          "name": "stdout",
          "text": [
            "[ 6  8 10 12]\n",
            "[-4 -4 -4 -4]\n",
            "[ 5 12 21 32]\n",
            "[0.2        0.33333333 0.42857143 0.5       ]\n",
            "[    1    64  2187 65536]\n",
            "[ 1  4  9 16]\n",
            "[ 1  4  9 16]\n",
            "[    1    64  2187 65536]\n",
            "[ 1  4  9 16]\n",
            "15\n",
            "3.75\n",
            "[[27 30]\n",
            " [78 87]]\n",
            "[[1 6]\n",
            " [2 7]\n",
            " [3 8]\n",
            " [4 9]]\n",
            "[[1 6]\n",
            " [2 7]\n",
            " [3 8]\n",
            " [4 9]]\n",
            "-2.0000000000000004\n",
            "[[-2.   1. ]\n",
            " [ 1.5 -0.5]]\n"
          ]
        }
      ]
    },
    {
      "cell_type": "code",
      "source": [
        "#How do you reshape a 1D array into a 2D array?\n",
        "a=np.array([1,2,3,4,5,6])\n",
        "print(a.reshape(2,3))\n",
        "\n",
        "#How do you flatten a multidimensional array?\n",
        "b=np.array([[1,2,3],[4,5,6]])\n",
        "print(b.flatten())\n",
        "print(b.ravel())\n",
        "\n",
        "#How do you concatenate or stack arrays vertically and horizontally?\n",
        "c=np.array([1,2,3])\n",
        "d=np.array([4,5,6])\n",
        "print(np.vstack((c,d)))\n",
        "print(np.hstack((c,d)))\n",
        "print(np.stack((c,d)))\n",
        "print(np.concatenate((c,d)))\n",
        "\n",
        "#How do you split an array into multiple subarrays?\n",
        "e=np.array([1,2,3,4,5,6])\n",
        "print(np.split(e,3))\n",
        "print(np.array_split(e,3))\n",
        "f=np.array([1,2,3,4,5])\n",
        "print(np.array_split(f,3))"
      ],
      "metadata": {
        "colab": {
          "base_uri": "https://localhost:8080/"
        },
        "id": "1XXuxj21tUit",
        "outputId": "ccdaf5ca-d587-4a0f-8899-5de12a698308"
      },
      "execution_count": 27,
      "outputs": [
        {
          "output_type": "stream",
          "name": "stdout",
          "text": [
            "[[1 2 3]\n",
            " [4 5 6]]\n",
            "[1 2 3 4 5 6]\n",
            "[1 2 3 4 5 6]\n",
            "[[1 2 3]\n",
            " [4 5 6]]\n",
            "[1 2 3 4 5 6]\n",
            "[[1 2 3]\n",
            " [4 5 6]]\n",
            "[1 2 3 4 5 6]\n",
            "[array([1, 2]), array([3, 4]), array([5, 6])]\n",
            "[array([1, 2]), array([3, 4]), array([5, 6])]\n",
            "[array([1, 2]), array([3, 4]), array([5])]\n"
          ]
        }
      ]
    },
    {
      "cell_type": "code",
      "source": [
        "#How do you compare two arrays element-wise (like a > b)\n",
        "import numpy as np\n",
        "a=np.array([[1,2,3,4],[5,6,7,8]])\n",
        "b=np.array([[9,2,3,6],[5,7,2,9]])\n",
        "c=np.array([[1,2,3,4],[5,6,7,8]])\n",
        "print(a==b)\n",
        "print(a>b)\n",
        "print(a<b)\n",
        "print(np.equal(a,b))\n",
        "print(np.all(a==b))\n",
        "print(np.any(a==b))\n",
        "print(np.all(a==c))\n",
        "\n",
        "\n",
        "#How do you find elements that satisfy a condition (like a[a > 3])?\n",
        "print(a[a>3])\n",
        "\n",
        "#How do you replace values in an array based on a condition?\n",
        "a[a>2]=9\n",
        "print(a)\n",
        "\n",
        "\n",
        "#How do you use np.where() for conditional selection?\n",
        "print(np.where(a[a>5],30,25))"
      ],
      "metadata": {
        "colab": {
          "base_uri": "https://localhost:8080/"
        },
        "id": "dqgTU3cX02IH",
        "outputId": "4679b241-fc9a-4330-bb8b-763b2c83eea3"
      },
      "execution_count": 6,
      "outputs": [
        {
          "output_type": "stream",
          "name": "stdout",
          "text": [
            "[[False  True  True False]\n",
            " [ True False False False]]\n",
            "[[False False False False]\n",
            " [False False  True False]]\n",
            "[[ True False False  True]\n",
            " [False  True False  True]]\n",
            "[[False  True  True False]\n",
            " [ True False False False]]\n",
            "False\n",
            "True\n",
            "True\n",
            "[4 5 6 7 8]\n",
            "[[1 2 9 9]\n",
            " [9 9 9 9]]\n",
            "[30 30 30 30 30 30]\n"
          ]
        }
      ]
    },
    {
      "cell_type": "code",
      "source": [
        "#How do you sort an array?\n",
        "import numpy as np\n",
        "a=np.array([1,6,3,9,9,1,3])\n",
        "sort_a=np.sort(a)\n",
        "print(sort_a)\n",
        "\n",
        "#How do you get only the unique values in an array?\n",
        "print(np.unique(a))\n",
        "\n",
        "#How do you check if any or all elements of a condition are True?\n",
        "print(np.all(a>5))\n",
        "print(np.any(a>5))\n",
        "\n",
        "#How do you handle NaN (Not a Number) values in arrays?\n",
        "b=np.array([1,2,3,np.nan,5])\n",
        "print(b)\n",
        "print(np.isnan(b))\n",
        "clear_b=b[~np.isnan(b)]\n",
        "print(clear_b)\n"
      ],
      "metadata": {
        "colab": {
          "base_uri": "https://localhost:8080/"
        },
        "id": "2xlEg0SKHShl",
        "outputId": "db5e1582-5ad7-4609-cb70-84f38fb40c63"
      },
      "execution_count": 11,
      "outputs": [
        {
          "output_type": "stream",
          "name": "stdout",
          "text": [
            "[1 1 3 3 6 9 9]\n",
            "[1 3 6 9]\n",
            "False\n",
            "True\n",
            "[ 1.  2.  3. nan  5.]\n",
            "[False False False  True False]\n",
            "[1. 2. 3. 5.]\n"
          ]
        }
      ]
    }
  ]
}