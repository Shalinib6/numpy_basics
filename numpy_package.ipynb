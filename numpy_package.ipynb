{
  "nbformat": 4,
  "nbformat_minor": 0,
  "metadata": {
    "colab": {
      "provenance": [],
      "authorship_tag": "ABX9TyP4IxdhElCRldN6P3RtlYou",
      "include_colab_link": true
    },
    "kernelspec": {
      "name": "python3",
      "display_name": "Python 3"
    },
    "language_info": {
      "name": "python"
    }
  },
  "cells": [
    {
      "cell_type": "markdown",
      "metadata": {
        "id": "view-in-github",
        "colab_type": "text"
      },
      "source": [
        "<a href=\"https://colab.research.google.com/github/Shalinib6/numpy_basics/blob/main/numpy_package.ipynb\" target=\"_parent\"><img src=\"https://colab.research.google.com/assets/colab-badge.svg\" alt=\"Open In Colab\"/></a>"
      ]
    },
    {
      "cell_type": "code",
      "execution_count": 2,
      "metadata": {
        "id": "Lwzdl6FeiSOu"
      },
      "outputs": [],
      "source": [
        "import os\n",
        "\n",
        "# Create a folder\n",
        "os.makedirs(\"my_folder\", exist_ok=True)\n",
        "\n",
        "# Save a file in that folder\n",
        "with open(\"my_folder/sample.txt\", \"w\") as f:\n",
        "    f.write(\"Hello from Colab!\")\n"
      ]
    },
    {
      "cell_type": "code",
      "source": [
        "from google.colab import drive\n",
        "drive.mount('/content/drive')"
      ],
      "metadata": {
        "colab": {
          "base_uri": "https://localhost:8080/"
        },
        "id": "PCMUcu3viunZ",
        "outputId": "c09f1a00-00d9-4793-a19a-d2afb65504dc"
      },
      "execution_count": 3,
      "outputs": [
        {
          "output_type": "stream",
          "name": "stdout",
          "text": [
            "Mounted at /content/drive\n"
          ]
        }
      ]
    },
    {
      "cell_type": "code",
      "source": [
        "#How do you create a 1D NumPy array from a Python list?\n",
        "\n",
        "import numpy as np\n",
        "c=np.array([1,2,3,4])\n",
        "print (c)\n",
        "\n",
        "\n"
      ],
      "metadata": {
        "colab": {
          "base_uri": "https://localhost:8080/"
        },
        "id": "rAk76PugnPbV",
        "outputId": "f699b125-9870-4974-cb05-e7cf2755bc63"
      },
      "execution_count": 5,
      "outputs": [
        {
          "output_type": "stream",
          "name": "stdout",
          "text": [
            "[1 2 3 4]\n"
          ]
        }
      ]
    },
    {
      "cell_type": "code",
      "source": [
        "#How do you create a 2D array (matrix) using np.array()\n",
        "import numpy as np\n",
        "c=np.array([[1,2,3,4],[5,6,7,8]])\n",
        "print(c)"
      ],
      "metadata": {
        "colab": {
          "base_uri": "https://localhost:8080/"
        },
        "id": "DxLbLHvfn34H",
        "outputId": "1151073d-15b2-4e1b-a390-f25cf94e10e5"
      },
      "execution_count": 6,
      "outputs": [
        {
          "output_type": "stream",
          "name": "stdout",
          "text": [
            "[[1 2 3 4]\n",
            " [5 6 7 8]]\n"
          ]
        }
      ]
    },
    {
      "cell_type": "code",
      "source": [
        "#How can you generate an array filled with zeros or ones\n",
        "import numpy as np\n",
        "c=np.zeros(5)\n",
        "print(c)\n",
        "\n",
        "cp=np.ones(5)\n",
        "print(cp)\n",
        "\n",
        "cpp=np.ones((2,3))\n",
        "print(cpp)"
      ],
      "metadata": {
        "colab": {
          "base_uri": "https://localhost:8080/"
        },
        "id": "TGfVaPdvpfbE",
        "outputId": "8711952e-e49f-433d-e4e2-4f88fa218122"
      },
      "execution_count": 8,
      "outputs": [
        {
          "output_type": "stream",
          "name": "stdout",
          "text": [
            "[0. 0. 0. 0. 0.]\n",
            "[1. 1. 1. 1. 1.]\n",
            "[[1. 1. 1.]\n",
            " [1. 1. 1.]]\n"
          ]
        }
      ]
    },
    {
      "cell_type": "code",
      "source": [
        "#How do you create an identity matrix\n",
        "c=np.eye(3,2)\n",
        "print(c)"
      ],
      "metadata": {
        "colab": {
          "base_uri": "https://localhost:8080/"
        },
        "id": "oAm26QP2qFnr",
        "outputId": "b04a737c-4fe1-49b9-e707-733a9f622f6a"
      },
      "execution_count": 12,
      "outputs": [
        {
          "output_type": "stream",
          "name": "stdout",
          "text": [
            "[[1. 0.]\n",
            " [0. 1.]\n",
            " [0. 0.]]\n"
          ]
        }
      ]
    },
    {
      "cell_type": "code",
      "source": [
        "#How do you create an array with a range of values (like Python’s range)?\n",
        "c=np.arange(5)\n",
        "print(c)\n",
        "cp=np.arange(2,10,2)\n",
        "print(cp)\n",
        "cpp=np.linspace(0,1,4)\n",
        "print(cpp)"
      ],
      "metadata": {
        "colab": {
          "base_uri": "https://localhost:8080/"
        },
        "id": "vonS4wuysjxN",
        "outputId": "77869a59-247e-4c2b-f361-bde413dd7b9b"
      },
      "execution_count": 14,
      "outputs": [
        {
          "output_type": "stream",
          "name": "stdout",
          "text": [
            "[0 1 2 3 4]\n",
            "[2 4 6 8]\n",
            "[0.         0.33333333 0.66666667 1.        ]\n"
          ]
        }
      ]
    },
    {
      "cell_type": "code",
      "source": [
        "#How do you create a random array of given shape?\n",
        "import numpy as np\n",
        "c=np.random.rand(5)\n",
        "print(c)\n",
        "cp=np.random.rand(2,3)\n",
        "print(cp)\n",
        "cpp=np.random.randn(1000)"
      ],
      "metadata": {
        "colab": {
          "base_uri": "https://localhost:8080/"
        },
        "id": "gvItKbo0u2bM",
        "outputId": "60782ff0-0b57-4b69-f170-af7647ff05d9"
      },
      "execution_count": 15,
      "outputs": [
        {
          "output_type": "stream",
          "name": "stdout",
          "text": [
            "[0.98479779 0.34596515 0.1953042  0.77274513 0.62871687]\n"
          ]
        }
      ]
    },
    {
      "cell_type": "code",
      "source": [
        "# 1D array of 4 random integers from 0 to 9\n",
        "import numpy as np\n",
        "d = np.random.randint(0, 10, size=4)\n",
        "print(d)\n",
        "\n",
        "# 2x3 array of random integers from 50 to 100\n",
        "e = np.random.randint(50, 101, size=(2, 3))\n",
        "print(e)\n"
      ],
      "metadata": {
        "colab": {
          "base_uri": "https://localhost:8080/"
        },
        "id": "jWIe6u234f41",
        "outputId": "817a29a1-ba85-4eaf-8db7-fbfe2415c903"
      },
      "execution_count": 16,
      "outputs": [
        {
          "output_type": "stream",
          "name": "stdout",
          "text": [
            "[8 3 5 0]\n",
            "[[63 96 70]\n",
            " [84 72 98]]\n"
          ]
        }
      ]
    },
    {
      "cell_type": "code",
      "source": [
        "#How do you check the shape (dimensions) of a NumPy array?\n",
        "import numpy as np\n",
        "c=np.array([[1,2,3,4],[5,6,7,8]])\n",
        "print(c.shape)\n",
        "\n",
        "#How do you find the number of dimensions in an array?\n",
        "print(c.ndim)\n",
        "\n",
        "#How do you access elements in a 2D array?\n",
        "print(c[1,2])\n",
        "\n",
        "#How can you get the total number of elements in an array?\n",
        "print(c.size)\n",
        "\n",
        "#How do you find the data type of elements in an array?\n",
        "print(c.dtype)\n",
        "\n"
      ],
      "metadata": {
        "colab": {
          "base_uri": "https://localhost:8080/"
        },
        "id": "CIM41GFE5Fnm",
        "outputId": "90b54a67-3b72-4d75-d136-5b16df20b25a"
      },
      "execution_count": 20,
      "outputs": [
        {
          "output_type": "stream",
          "name": "stdout",
          "text": [
            "(2, 4)\n",
            "2\n",
            "7\n",
            "8\n",
            "int64\n"
          ]
        }
      ]
    }
  ]
}