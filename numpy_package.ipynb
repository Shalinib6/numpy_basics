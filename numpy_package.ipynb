{
  "nbformat": 4,
  "nbformat_minor": 0,
  "metadata": {
    "colab": {
      "provenance": [],
      "authorship_tag": "ABX9TyMuqAM6VlR8pPm4DpvGveFG",
      "include_colab_link": true
    },
    "kernelspec": {
      "name": "python3",
      "display_name": "Python 3"
    },
    "language_info": {
      "name": "python"
    }
  },
  "cells": [
    {
      "cell_type": "markdown",
      "metadata": {
        "id": "view-in-github",
        "colab_type": "text"
      },
      "source": [
        "<a href=\"https://colab.research.google.com/github/Shalinib6/numpy_basics/blob/main/numpy_package.ipynb\" target=\"_parent\"><img src=\"https://colab.research.google.com/assets/colab-badge.svg\" alt=\"Open In Colab\"/></a>"
      ]
    },
    {
      "cell_type": "code",
      "execution_count": null,
      "metadata": {
        "id": "Lwzdl6FeiSOu"
      },
      "outputs": [],
      "source": [
        "import os\n",
        "\n",
        "# Create a folder\n",
        "os.makedirs(\"my_folder\", exist_ok=True)\n",
        "\n",
        "# Save a file in that folder\n",
        "with open(\"my_folder/sample.txt\", \"w\") as f:\n",
        "    f.write(\"Hello from Colab!\")\n"
      ]
    },
    {
      "cell_type": "code",
      "source": [
        "from google.colab import drive\n",
        "drive.mount('/content/drive')"
      ],
      "metadata": {
        "colab": {
          "base_uri": "https://localhost:8080/"
        },
        "id": "PCMUcu3viunZ",
        "outputId": "c09f1a00-00d9-4793-a19a-d2afb65504dc"
      },
      "execution_count": null,
      "outputs": [
        {
          "output_type": "stream",
          "name": "stdout",
          "text": [
            "Mounted at /content/drive\n"
          ]
        }
      ]
    },
    {
      "cell_type": "code",
      "source": [
        "#How do you create a 1D NumPy array from a Python list?\n",
        "\n",
        "import numpy as np\n",
        "c=np.array([1,2,3,4])\n",
        "print (c)\n",
        "\n",
        "\n"
      ],
      "metadata": {
        "colab": {
          "base_uri": "https://localhost:8080/"
        },
        "id": "rAk76PugnPbV",
        "outputId": "f699b125-9870-4974-cb05-e7cf2755bc63"
      },
      "execution_count": null,
      "outputs": [
        {
          "output_type": "stream",
          "name": "stdout",
          "text": [
            "[1 2 3 4]\n"
          ]
        }
      ]
    },
    {
      "cell_type": "code",
      "source": [
        "#How do you create a 2D array (matrix) using np.array()\n",
        "import numpy as np\n",
        "c=np.array([[1,2,3,4],[5,6,7,8]])\n",
        "print(c)"
      ],
      "metadata": {
        "colab": {
          "base_uri": "https://localhost:8080/"
        },
        "id": "DxLbLHvfn34H",
        "outputId": "1151073d-15b2-4e1b-a390-f25cf94e10e5"
      },
      "execution_count": null,
      "outputs": [
        {
          "output_type": "stream",
          "name": "stdout",
          "text": [
            "[[1 2 3 4]\n",
            " [5 6 7 8]]\n"
          ]
        }
      ]
    },
    {
      "cell_type": "code",
      "source": [
        "#How can you generate an array filled with zeros or ones\n",
        "import numpy as np\n",
        "c=np.zeros(5)\n",
        "print(c)\n",
        "\n",
        "cp=np.ones(5)\n",
        "print(cp)\n",
        "\n",
        "cpp=np.ones((2,3))\n",
        "print(cpp)"
      ],
      "metadata": {
        "colab": {
          "base_uri": "https://localhost:8080/"
        },
        "id": "TGfVaPdvpfbE",
        "outputId": "8711952e-e49f-433d-e4e2-4f88fa218122"
      },
      "execution_count": null,
      "outputs": [
        {
          "output_type": "stream",
          "name": "stdout",
          "text": [
            "[0. 0. 0. 0. 0.]\n",
            "[1. 1. 1. 1. 1.]\n",
            "[[1. 1. 1.]\n",
            " [1. 1. 1.]]\n"
          ]
        }
      ]
    },
    {
      "cell_type": "code",
      "source": [
        "#How do you create an identity matrix\n",
        "c=np.eye(3,2)\n",
        "print(c)"
      ],
      "metadata": {
        "colab": {
          "base_uri": "https://localhost:8080/"
        },
        "id": "oAm26QP2qFnr",
        "outputId": "b04a737c-4fe1-49b9-e707-733a9f622f6a"
      },
      "execution_count": null,
      "outputs": [
        {
          "output_type": "stream",
          "name": "stdout",
          "text": [
            "[[1. 0.]\n",
            " [0. 1.]\n",
            " [0. 0.]]\n"
          ]
        }
      ]
    },
    {
      "cell_type": "code",
      "source": [
        "#How do you create an array with a range of values (like Python’s range)?\n",
        "c=np.arange(5)\n",
        "print(c)\n",
        "cp=np.arange(2,10,2)\n",
        "print(cp)\n",
        "cpp=np.linspace(0,1,4)\n",
        "print(cpp)"
      ],
      "metadata": {
        "colab": {
          "base_uri": "https://localhost:8080/"
        },
        "id": "vonS4wuysjxN",
        "outputId": "77869a59-247e-4c2b-f361-bde413dd7b9b"
      },
      "execution_count": null,
      "outputs": [
        {
          "output_type": "stream",
          "name": "stdout",
          "text": [
            "[0 1 2 3 4]\n",
            "[2 4 6 8]\n",
            "[0.         0.33333333 0.66666667 1.        ]\n"
          ]
        }
      ]
    },
    {
      "cell_type": "code",
      "source": [
        "#How do you create a random array of given shape?\n",
        "import numpy as np\n",
        "c=np.random.rand(5)\n",
        "print(c)\n",
        "cp=np.random.rand(2,3)\n",
        "print(cp)\n",
        "cpp=np.random.randn(1000)"
      ],
      "metadata": {
        "colab": {
          "base_uri": "https://localhost:8080/"
        },
        "id": "gvItKbo0u2bM",
        "outputId": "60782ff0-0b57-4b69-f170-af7647ff05d9"
      },
      "execution_count": null,
      "outputs": [
        {
          "output_type": "stream",
          "name": "stdout",
          "text": [
            "[0.98479779 0.34596515 0.1953042  0.77274513 0.62871687]\n"
          ]
        }
      ]
    },
    {
      "cell_type": "code",
      "source": [
        "# 1D array of 4 random integers from 0 to 9\n",
        "import numpy as np\n",
        "d = np.random.randint(0, 10, size=4)\n",
        "print(d)\n",
        "\n",
        "# 2x3 array of random integers from 50 to 100\n",
        "e = np.random.randint(50, 101, size=(2, 3))\n",
        "print(e)\n"
      ],
      "metadata": {
        "colab": {
          "base_uri": "https://localhost:8080/"
        },
        "id": "jWIe6u234f41",
        "outputId": "817a29a1-ba85-4eaf-8db7-fbfe2415c903"
      },
      "execution_count": null,
      "outputs": [
        {
          "output_type": "stream",
          "name": "stdout",
          "text": [
            "[8 3 5 0]\n",
            "[[63 96 70]\n",
            " [84 72 98]]\n"
          ]
        }
      ]
    },
    {
      "cell_type": "code",
      "source": [
        "#How do you check the shape (dimensions) of a NumPy array?\n",
        "import numpy as np\n",
        "c=np.array([[1,2,3,4],[5,6,7,8]])\n",
        "print(c.shape)\n",
        "\n",
        "#How do you find the number of dimensions in an array?\n",
        "print(c.ndim)\n",
        "\n",
        "#How do you access elements in a 2D array?\n",
        "print(c[1,2])\n",
        "\n",
        "#How can you get the total number of elements in an array?\n",
        "print(c.size)\n",
        "\n",
        "#How do you find the data type of elements in an array?\n",
        "print(c.dtype)\n",
        "cp=[\"apple\",\"banana\",\"jackfruit\"]\n",
        "print(np.array(cp).dtype)\n",
        "\n"
      ],
      "metadata": {
        "colab": {
          "base_uri": "https://localhost:8080/"
        },
        "id": "CIM41GFE5Fnm",
        "outputId": "1521dc42-2d3e-47d6-d697-c91407b03c67"
      },
      "execution_count": 4,
      "outputs": [
        {
          "output_type": "stream",
          "name": "stdout",
          "text": [
            "(2, 4)\n",
            "2\n",
            "7\n",
            "8\n",
            "int64\n",
            "<U9\n"
          ]
        }
      ]
    },
    {
      "cell_type": "code",
      "source": [
        "#How do you access the first, last, or any element in a 1D array?\n",
        "import numpy as np\n",
        "c=np.array([1,2,3,4])\n",
        "print(c[-1])\n",
        "print(c[-2])\n",
        "#How do you access rows and columns in a 2D array?\n",
        "cp=np.array([[1,2,3,4],[5,6,7,8]])\n",
        "print(cp[-1,-2])\n",
        "\n",
        "#How do you slice a 2D array to get a submatrix?\n",
        "cpp=np.array([[1,2,3,4],[5,6,7,8],[9,10,11,12]])\n",
        "print(cpp[1:, 2:])\n",
        "\n",
        "#How do you use negative indexing in NumPy arrays\n",
        "cppp=np.array([[1,2,3,4],[5,6,7,8],[9,10,11,12]])\n",
        "print(cppp[:,-1])"
      ],
      "metadata": {
        "colab": {
          "base_uri": "https://localhost:8080/"
        },
        "id": "CkJiJf-WRhoC",
        "outputId": "005cb946-0df5-4fc6-fc55-7c5b74281998"
      },
      "execution_count": 9,
      "outputs": [
        {
          "output_type": "stream",
          "name": "stdout",
          "text": [
            "4\n",
            "3\n",
            "7\n",
            "[[ 7  8]\n",
            " [11 12]]\n",
            "[ 4  8 12]\n"
          ]
        }
      ]
    },
    {
      "cell_type": "code",
      "source": [
        "#How do you add, subtract, multiply, or divide two arrays element-wise?\n",
        "import numpy as np\n",
        "c=np.array([1,2,3,4])\n",
        "cp=np.array([5,6,7,8])\n",
        "print(c+cp)\n",
        "print(c-cp)\n",
        "print(c*cp)\n",
        "print(c/cp)\n",
        "\n",
        "#How do you perform power or square operations on arrays?\n",
        "cpp=np.array([1,2,3,4])\n",
        "cppp=np.array([5,6,7,8])\n",
        "print(cpp**cppp)\n",
        "print(cpp**2)\n",
        "print(np.square(cpp))\n",
        "print(np.power(cpp,cppp))\n",
        "print(np.power(cpp,2))\n",
        "\n",
        "#How do you calculate the sum, mean, or standard deviation of an array?\n",
        "cpppp=np.array([1,3,5,6])\n",
        "print(np.sum(cpppp))\n",
        "print(np.mean(cpppp))\n",
        "#How do you perform matrix multiplication using NumPy?\n",
        "a=np.array([[1,2],[4,5]])\n",
        "b=np.array([[7,8],[10,11]])\n",
        "result=np.dot(a,b)\n",
        "print(result)\n",
        "\n",
        "#How do you compute the transpose of a matrix?\n",
        "d=np.array([[1,2,3,4],[6,7,8,9]])\n",
        "print(d.T)\n",
        "print(np.transpose(d))\n",
        "#How do you find the inverse or determinant of a matrix?\n",
        "e=np.array([[1,2],[3,4]])\n",
        "print(np.linalg.det(e))\n",
        "print(np.linalg.inv(e))"
      ],
      "metadata": {
        "colab": {
          "base_uri": "https://localhost:8080/"
        },
        "id": "4EZoet-bfCjE",
        "outputId": "8ff42d1e-aea0-4e25-97db-e95d5397805a"
      },
      "execution_count": 20,
      "outputs": [
        {
          "output_type": "stream",
          "name": "stdout",
          "text": [
            "[ 6  8 10 12]\n",
            "[-4 -4 -4 -4]\n",
            "[ 5 12 21 32]\n",
            "[0.2        0.33333333 0.42857143 0.5       ]\n",
            "[    1    64  2187 65536]\n",
            "[ 1  4  9 16]\n",
            "[ 1  4  9 16]\n",
            "[    1    64  2187 65536]\n",
            "[ 1  4  9 16]\n",
            "15\n",
            "3.75\n",
            "[[27 30]\n",
            " [78 87]]\n",
            "[[1 6]\n",
            " [2 7]\n",
            " [3 8]\n",
            " [4 9]]\n",
            "[[1 6]\n",
            " [2 7]\n",
            " [3 8]\n",
            " [4 9]]\n",
            "-2.0000000000000004\n",
            "[[-2.   1. ]\n",
            " [ 1.5 -0.5]]\n"
          ]
        }
      ]
    }
  ]
}